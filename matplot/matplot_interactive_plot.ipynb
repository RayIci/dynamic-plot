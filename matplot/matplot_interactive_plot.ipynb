{
 "cells": [
  {
   "cell_type": "code",
   "execution_count": 1,
   "metadata": {},
   "outputs": [],
   "source": [
    "%matplotlib inline\n",
    "import numpy as np\n",
    "import matplotlib.pyplot as plt\n",
    "\n",
    "from ipywidgets import interact, interactive, fixed, interact_manual\n",
    "import ipywidgets as widgets"
   ]
  },
  {
   "cell_type": "code",
   "execution_count": 2,
   "metadata": {},
   "outputs": [],
   "source": [
    "def parableFunction(x, a, b, c):\n",
    "    y = ((x**2) * a) + (x * b) + c\n",
    "    return y"
   ]
  },
  {
   "cell_type": "code",
   "execution_count": 3,
   "metadata": {},
   "outputs": [],
   "source": [
    "# Line function\n",
    "def lineFunction(x, m, q):\n",
    "    y = (m * x) + q\n",
    "    return y"
   ]
  },
  {
   "cell_type": "code",
   "execution_count": 4,
   "metadata": {},
   "outputs": [],
   "source": [
    "def createSlider(sValue, sMin, sMax, sStep):\n",
    "    slider = widgets.FloatSlider(value=sValue, min=sMin, max=sMax, step=sStep)\n",
    "    return slider"
   ]
  },
  {
   "cell_type": "code",
   "execution_count": 5,
   "metadata": {},
   "outputs": [
    {
     "data": {
      "application/vnd.jupyter.widget-view+json": {
       "model_id": "e2ec9422ec43485d9a1e7afcfabe5058",
       "version_major": 2,
       "version_minor": 0
      },
      "text/plain": [
       "interactive(children=(FloatSlider(value=1.0, description='m', max=50.0, min=-50.0, step=1.0), FloatSlider(valu…"
      ]
     },
     "metadata": {},
     "output_type": "display_data"
    },
    {
     "data": {
      "application/vnd.jupyter.widget-view+json": {
       "model_id": "7cdf6603728f4c70a1be15c438cc7ddf",
       "version_major": 2,
       "version_minor": 0
      },
      "text/plain": [
       "interactive(children=(FloatSlider(value=1.0, description='a', max=1.0, min=-1.0, step=0.01), FloatSlider(value…"
      ]
     },
     "metadata": {},
     "output_type": "display_data"
    },
    {
     "data": {
      "text/plain": [
       "<function __main__.dynamicParablePlot(a, b, c)>"
      ]
     },
     "execution_count": 5,
     "metadata": {},
     "output_type": "execute_result"
    }
   ],
   "source": [
    "# Creiamo ora una retta\n",
    "\n",
    "from tkinter import Grid\n",
    "\n",
    "\n",
    "def dynamicLinePlot(m, q):\n",
    "    a = -50\n",
    "    b = 50\n",
    "    n_samples = 200\n",
    "    x = np.linspace(a, b, n_samples)\n",
    "\n",
    "    y = lineFunction(x, m, q)\n",
    "\n",
    "    plt.xlim(-10, 10)\n",
    "    plt.ylim(-10, 10)\n",
    "    plt.plot(x, y)\n",
    "\n",
    "def dynamicParablePlot(a, b, c):\n",
    "    a_dim = -50\n",
    "    b_dim = 50\n",
    "    n_samples = 200\n",
    "    x = np.linspace(a_dim, b_dim, n_samples)\n",
    "\n",
    "    y = parableFunction(x, a, b, c)\n",
    "\n",
    "    plt.xlim(-50, 50)\n",
    "    plt.ylim(-50, 50)\n",
    "    plt.plot(x, y)\n",
    "\n",
    "\n",
    "interact(dynamicLinePlot, m=createSlider(1, -50, 50, 1), q=createSlider(1, -50, 50, 1))\n",
    "interact(dynamicParablePlot, a=createSlider(1, -1, 1, 0.01), b=createSlider(1, -50, 50, 1), c=createSlider(1, -50, 50, 1))"
   ]
  }
 ],
 "metadata": {
  "kernelspec": {
   "display_name": "Python 3.10.2 64-bit",
   "language": "python",
   "name": "python3"
  },
  "language_info": {
   "codemirror_mode": {
    "name": "ipython",
    "version": 3
   },
   "file_extension": ".py",
   "mimetype": "text/x-python",
   "name": "python",
   "nbconvert_exporter": "python",
   "pygments_lexer": "ipython3",
   "version": "3.10.2"
  },
  "orig_nbformat": 4,
  "vscode": {
   "interpreter": {
    "hash": "959e57dc0a37e639553a4bdb350896ed4d4f15ec6ead1eb0fd82df70d0f6f87c"
   }
  }
 },
 "nbformat": 4,
 "nbformat_minor": 2
}
