{
 "cells": [
  {
   "cell_type": "markdown",
   "metadata": {},
   "source": [
    "# 3D Plots with Plotly"
   ]
  },
  {
   "cell_type": "code",
   "execution_count": 4,
   "metadata": {},
   "outputs": [],
   "source": [
    "import numpy as np\n",
    "import pandas as pd\n",
    "\n",
    "import plotly.graph_objects as go\n",
    "import plotly.express as px"
   ]
  },
  {
   "cell_type": "markdown",
   "metadata": {},
   "source": [
    "## 3D Scatter\n",
    "\n",
    "https://plotly.com/python/3d-scatter-plots/"
   ]
  },
  {
   "cell_type": "code",
   "execution_count": 102,
   "metadata": {},
   "outputs": [
    {
     "data": {
      "application/vnd.plotly.v1+json": {
       "config": {
        "plotlyServerURL": "https://plot.ly"
       },
       "data": [
        {
         "hovertemplate": "x=%{x}<br>y=%{y}<br>z=%{z}<br>color=%{marker.color}<extra></extra>",
         "legendgroup": "",
         "marker": {
          "color": [
           137,
           217,
           22,
           143,
           201,
           61,
           71,
           209,
           232,
           181,
           70,
           56,
           112,
           248,
           250,
           23,
           40,
           44,
           109,
           235
          ],
          "coloraxis": "coloraxis",
          "symbol": "circle"
         },
         "mode": "markers",
         "name": "",
         "scene": "scene",
         "showlegend": false,
         "type": "scatter3d",
         "x": [
          4.651424118963321,
          0.15029658369142318,
          2.9109451178153716,
          1.9798469550460043,
          -0.7141200414782203,
          1.507583503121765,
          -4.726435661279353,
          3.169690856271137,
          3.7328224736550393,
          3.447607902423025,
          -0.3763130782314157,
          -2.5362642302294813,
          0.7870286535556623,
          4.229711577961808,
          1.8543851831379987,
          2.9403499220531693,
          1.7636775678184868,
          -3.3662209195526405,
          3.7338371593103687,
          4.907073928549776
         ],
         "y": [
          1.8899133485758526,
          -4.447899433323217,
          -3.7312117821138324,
          4.085153932237917,
          2.652871237596904,
          -4.278290687003333,
          -2.146738228523085,
          -4.791733532246968,
          4.670053465974204,
          -0.5348677031588567,
          -0.11625373811175699,
          -1.64321264008057,
          1.999983615919179,
          4.472523536282127,
          1.5893205063012825,
          -0.27703063538854966,
          -3.311360742062078,
          0.6690739941301977,
          2.3683498464377557,
          -4.502213650840541
         ],
         "z": [
          -4.229861590034936,
          -1.6737526486787702,
          -3.908572444473334,
          -0.9817701197353053,
          -3.3582405815067897,
          4.925944347375065,
          2.1346558471953205,
          3.3546201655219736,
          3.396485385976437,
          -1.288483509588374,
          4.110801903748097,
          2.0881844935762146,
          -4.295174161363341,
          -3.3896923360235887,
          0.27252261623452867,
          3.428672858743612,
          2.6510989543980488,
          3.8820423284218215,
          -2.9500546728708956,
          2.9102901741340146
         ]
        }
       ],
       "layout": {
        "coloraxis": {
         "colorbar": {
          "title": {
           "text": "color"
          }
         },
         "colorscale": [
          [
           0,
           "#0d0887"
          ],
          [
           0.1111111111111111,
           "#46039f"
          ],
          [
           0.2222222222222222,
           "#7201a8"
          ],
          [
           0.3333333333333333,
           "#9c179e"
          ],
          [
           0.4444444444444444,
           "#bd3786"
          ],
          [
           0.5555555555555556,
           "#d8576b"
          ],
          [
           0.6666666666666666,
           "#ed7953"
          ],
          [
           0.7777777777777778,
           "#fb9f3a"
          ],
          [
           0.8888888888888888,
           "#fdca26"
          ],
          [
           1,
           "#f0f921"
          ]
         ]
        },
        "legend": {
         "tracegroupgap": 0
        },
        "margin": {
         "b": 0,
         "l": 0,
         "r": 0,
         "t": 0
        },
        "scene": {
         "domain": {
          "x": [
           0,
           1
          ],
          "y": [
           0,
           1
          ]
         },
         "xaxis": {
          "title": {
           "text": "x"
          }
         },
         "yaxis": {
          "title": {
           "text": "y"
          }
         },
         "zaxis": {
          "title": {
           "text": "z"
          }
         }
        },
        "template": {
         "data": {
          "bar": [
           {
            "error_x": {
             "color": "#2a3f5f"
            },
            "error_y": {
             "color": "#2a3f5f"
            },
            "marker": {
             "line": {
              "color": "#E5ECF6",
              "width": 0.5
             },
             "pattern": {
              "fillmode": "overlay",
              "size": 10,
              "solidity": 0.2
             }
            },
            "type": "bar"
           }
          ],
          "barpolar": [
           {
            "marker": {
             "line": {
              "color": "#E5ECF6",
              "width": 0.5
             },
             "pattern": {
              "fillmode": "overlay",
              "size": 10,
              "solidity": 0.2
             }
            },
            "type": "barpolar"
           }
          ],
          "carpet": [
           {
            "aaxis": {
             "endlinecolor": "#2a3f5f",
             "gridcolor": "white",
             "linecolor": "white",
             "minorgridcolor": "white",
             "startlinecolor": "#2a3f5f"
            },
            "baxis": {
             "endlinecolor": "#2a3f5f",
             "gridcolor": "white",
             "linecolor": "white",
             "minorgridcolor": "white",
             "startlinecolor": "#2a3f5f"
            },
            "type": "carpet"
           }
          ],
          "choropleth": [
           {
            "colorbar": {
             "outlinewidth": 0,
             "ticks": ""
            },
            "type": "choropleth"
           }
          ],
          "contour": [
           {
            "colorbar": {
             "outlinewidth": 0,
             "ticks": ""
            },
            "colorscale": [
             [
              0,
              "#0d0887"
             ],
             [
              0.1111111111111111,
              "#46039f"
             ],
             [
              0.2222222222222222,
              "#7201a8"
             ],
             [
              0.3333333333333333,
              "#9c179e"
             ],
             [
              0.4444444444444444,
              "#bd3786"
             ],
             [
              0.5555555555555556,
              "#d8576b"
             ],
             [
              0.6666666666666666,
              "#ed7953"
             ],
             [
              0.7777777777777778,
              "#fb9f3a"
             ],
             [
              0.8888888888888888,
              "#fdca26"
             ],
             [
              1,
              "#f0f921"
             ]
            ],
            "type": "contour"
           }
          ],
          "contourcarpet": [
           {
            "colorbar": {
             "outlinewidth": 0,
             "ticks": ""
            },
            "type": "contourcarpet"
           }
          ],
          "heatmap": [
           {
            "colorbar": {
             "outlinewidth": 0,
             "ticks": ""
            },
            "colorscale": [
             [
              0,
              "#0d0887"
             ],
             [
              0.1111111111111111,
              "#46039f"
             ],
             [
              0.2222222222222222,
              "#7201a8"
             ],
             [
              0.3333333333333333,
              "#9c179e"
             ],
             [
              0.4444444444444444,
              "#bd3786"
             ],
             [
              0.5555555555555556,
              "#d8576b"
             ],
             [
              0.6666666666666666,
              "#ed7953"
             ],
             [
              0.7777777777777778,
              "#fb9f3a"
             ],
             [
              0.8888888888888888,
              "#fdca26"
             ],
             [
              1,
              "#f0f921"
             ]
            ],
            "type": "heatmap"
           }
          ],
          "heatmapgl": [
           {
            "colorbar": {
             "outlinewidth": 0,
             "ticks": ""
            },
            "colorscale": [
             [
              0,
              "#0d0887"
             ],
             [
              0.1111111111111111,
              "#46039f"
             ],
             [
              0.2222222222222222,
              "#7201a8"
             ],
             [
              0.3333333333333333,
              "#9c179e"
             ],
             [
              0.4444444444444444,
              "#bd3786"
             ],
             [
              0.5555555555555556,
              "#d8576b"
             ],
             [
              0.6666666666666666,
              "#ed7953"
             ],
             [
              0.7777777777777778,
              "#fb9f3a"
             ],
             [
              0.8888888888888888,
              "#fdca26"
             ],
             [
              1,
              "#f0f921"
             ]
            ],
            "type": "heatmapgl"
           }
          ],
          "histogram": [
           {
            "marker": {
             "pattern": {
              "fillmode": "overlay",
              "size": 10,
              "solidity": 0.2
             }
            },
            "type": "histogram"
           }
          ],
          "histogram2d": [
           {
            "colorbar": {
             "outlinewidth": 0,
             "ticks": ""
            },
            "colorscale": [
             [
              0,
              "#0d0887"
             ],
             [
              0.1111111111111111,
              "#46039f"
             ],
             [
              0.2222222222222222,
              "#7201a8"
             ],
             [
              0.3333333333333333,
              "#9c179e"
             ],
             [
              0.4444444444444444,
              "#bd3786"
             ],
             [
              0.5555555555555556,
              "#d8576b"
             ],
             [
              0.6666666666666666,
              "#ed7953"
             ],
             [
              0.7777777777777778,
              "#fb9f3a"
             ],
             [
              0.8888888888888888,
              "#fdca26"
             ],
             [
              1,
              "#f0f921"
             ]
            ],
            "type": "histogram2d"
           }
          ],
          "histogram2dcontour": [
           {
            "colorbar": {
             "outlinewidth": 0,
             "ticks": ""
            },
            "colorscale": [
             [
              0,
              "#0d0887"
             ],
             [
              0.1111111111111111,
              "#46039f"
             ],
             [
              0.2222222222222222,
              "#7201a8"
             ],
             [
              0.3333333333333333,
              "#9c179e"
             ],
             [
              0.4444444444444444,
              "#bd3786"
             ],
             [
              0.5555555555555556,
              "#d8576b"
             ],
             [
              0.6666666666666666,
              "#ed7953"
             ],
             [
              0.7777777777777778,
              "#fb9f3a"
             ],
             [
              0.8888888888888888,
              "#fdca26"
             ],
             [
              1,
              "#f0f921"
             ]
            ],
            "type": "histogram2dcontour"
           }
          ],
          "mesh3d": [
           {
            "colorbar": {
             "outlinewidth": 0,
             "ticks": ""
            },
            "type": "mesh3d"
           }
          ],
          "parcoords": [
           {
            "line": {
             "colorbar": {
              "outlinewidth": 0,
              "ticks": ""
             }
            },
            "type": "parcoords"
           }
          ],
          "pie": [
           {
            "automargin": true,
            "type": "pie"
           }
          ],
          "scatter": [
           {
            "fillpattern": {
             "fillmode": "overlay",
             "size": 10,
             "solidity": 0.2
            },
            "type": "scatter"
           }
          ],
          "scatter3d": [
           {
            "line": {
             "colorbar": {
              "outlinewidth": 0,
              "ticks": ""
             }
            },
            "marker": {
             "colorbar": {
              "outlinewidth": 0,
              "ticks": ""
             }
            },
            "type": "scatter3d"
           }
          ],
          "scattercarpet": [
           {
            "marker": {
             "colorbar": {
              "outlinewidth": 0,
              "ticks": ""
             }
            },
            "type": "scattercarpet"
           }
          ],
          "scattergeo": [
           {
            "marker": {
             "colorbar": {
              "outlinewidth": 0,
              "ticks": ""
             }
            },
            "type": "scattergeo"
           }
          ],
          "scattergl": [
           {
            "marker": {
             "colorbar": {
              "outlinewidth": 0,
              "ticks": ""
             }
            },
            "type": "scattergl"
           }
          ],
          "scattermapbox": [
           {
            "marker": {
             "colorbar": {
              "outlinewidth": 0,
              "ticks": ""
             }
            },
            "type": "scattermapbox"
           }
          ],
          "scatterpolar": [
           {
            "marker": {
             "colorbar": {
              "outlinewidth": 0,
              "ticks": ""
             }
            },
            "type": "scatterpolar"
           }
          ],
          "scatterpolargl": [
           {
            "marker": {
             "colorbar": {
              "outlinewidth": 0,
              "ticks": ""
             }
            },
            "type": "scatterpolargl"
           }
          ],
          "scatterternary": [
           {
            "marker": {
             "colorbar": {
              "outlinewidth": 0,
              "ticks": ""
             }
            },
            "type": "scatterternary"
           }
          ],
          "surface": [
           {
            "colorbar": {
             "outlinewidth": 0,
             "ticks": ""
            },
            "colorscale": [
             [
              0,
              "#0d0887"
             ],
             [
              0.1111111111111111,
              "#46039f"
             ],
             [
              0.2222222222222222,
              "#7201a8"
             ],
             [
              0.3333333333333333,
              "#9c179e"
             ],
             [
              0.4444444444444444,
              "#bd3786"
             ],
             [
              0.5555555555555556,
              "#d8576b"
             ],
             [
              0.6666666666666666,
              "#ed7953"
             ],
             [
              0.7777777777777778,
              "#fb9f3a"
             ],
             [
              0.8888888888888888,
              "#fdca26"
             ],
             [
              1,
              "#f0f921"
             ]
            ],
            "type": "surface"
           }
          ],
          "table": [
           {
            "cells": {
             "fill": {
              "color": "#EBF0F8"
             },
             "line": {
              "color": "white"
             }
            },
            "header": {
             "fill": {
              "color": "#C8D4E3"
             },
             "line": {
              "color": "white"
             }
            },
            "type": "table"
           }
          ]
         },
         "layout": {
          "annotationdefaults": {
           "arrowcolor": "#2a3f5f",
           "arrowhead": 0,
           "arrowwidth": 1
          },
          "autotypenumbers": "strict",
          "coloraxis": {
           "colorbar": {
            "outlinewidth": 0,
            "ticks": ""
           }
          },
          "colorscale": {
           "diverging": [
            [
             0,
             "#8e0152"
            ],
            [
             0.1,
             "#c51b7d"
            ],
            [
             0.2,
             "#de77ae"
            ],
            [
             0.3,
             "#f1b6da"
            ],
            [
             0.4,
             "#fde0ef"
            ],
            [
             0.5,
             "#f7f7f7"
            ],
            [
             0.6,
             "#e6f5d0"
            ],
            [
             0.7,
             "#b8e186"
            ],
            [
             0.8,
             "#7fbc41"
            ],
            [
             0.9,
             "#4d9221"
            ],
            [
             1,
             "#276419"
            ]
           ],
           "sequential": [
            [
             0,
             "#0d0887"
            ],
            [
             0.1111111111111111,
             "#46039f"
            ],
            [
             0.2222222222222222,
             "#7201a8"
            ],
            [
             0.3333333333333333,
             "#9c179e"
            ],
            [
             0.4444444444444444,
             "#bd3786"
            ],
            [
             0.5555555555555556,
             "#d8576b"
            ],
            [
             0.6666666666666666,
             "#ed7953"
            ],
            [
             0.7777777777777778,
             "#fb9f3a"
            ],
            [
             0.8888888888888888,
             "#fdca26"
            ],
            [
             1,
             "#f0f921"
            ]
           ],
           "sequentialminus": [
            [
             0,
             "#0d0887"
            ],
            [
             0.1111111111111111,
             "#46039f"
            ],
            [
             0.2222222222222222,
             "#7201a8"
            ],
            [
             0.3333333333333333,
             "#9c179e"
            ],
            [
             0.4444444444444444,
             "#bd3786"
            ],
            [
             0.5555555555555556,
             "#d8576b"
            ],
            [
             0.6666666666666666,
             "#ed7953"
            ],
            [
             0.7777777777777778,
             "#fb9f3a"
            ],
            [
             0.8888888888888888,
             "#fdca26"
            ],
            [
             1,
             "#f0f921"
            ]
           ]
          },
          "colorway": [
           "#636efa",
           "#EF553B",
           "#00cc96",
           "#ab63fa",
           "#FFA15A",
           "#19d3f3",
           "#FF6692",
           "#B6E880",
           "#FF97FF",
           "#FECB52"
          ],
          "font": {
           "color": "#2a3f5f"
          },
          "geo": {
           "bgcolor": "white",
           "lakecolor": "white",
           "landcolor": "#E5ECF6",
           "showlakes": true,
           "showland": true,
           "subunitcolor": "white"
          },
          "hoverlabel": {
           "align": "left"
          },
          "hovermode": "closest",
          "mapbox": {
           "style": "light"
          },
          "paper_bgcolor": "white",
          "plot_bgcolor": "#E5ECF6",
          "polar": {
           "angularaxis": {
            "gridcolor": "white",
            "linecolor": "white",
            "ticks": ""
           },
           "bgcolor": "#E5ECF6",
           "radialaxis": {
            "gridcolor": "white",
            "linecolor": "white",
            "ticks": ""
           }
          },
          "scene": {
           "xaxis": {
            "backgroundcolor": "#E5ECF6",
            "gridcolor": "white",
            "gridwidth": 2,
            "linecolor": "white",
            "showbackground": true,
            "ticks": "",
            "zerolinecolor": "white"
           },
           "yaxis": {
            "backgroundcolor": "#E5ECF6",
            "gridcolor": "white",
            "gridwidth": 2,
            "linecolor": "white",
            "showbackground": true,
            "ticks": "",
            "zerolinecolor": "white"
           },
           "zaxis": {
            "backgroundcolor": "#E5ECF6",
            "gridcolor": "white",
            "gridwidth": 2,
            "linecolor": "white",
            "showbackground": true,
            "ticks": "",
            "zerolinecolor": "white"
           }
          },
          "shapedefaults": {
           "line": {
            "color": "#2a3f5f"
           }
          },
          "ternary": {
           "aaxis": {
            "gridcolor": "white",
            "linecolor": "white",
            "ticks": ""
           },
           "baxis": {
            "gridcolor": "white",
            "linecolor": "white",
            "ticks": ""
           },
           "bgcolor": "#E5ECF6",
           "caxis": {
            "gridcolor": "white",
            "linecolor": "white",
            "ticks": ""
           }
          },
          "title": {
           "x": 0.05
          },
          "xaxis": {
           "automargin": true,
           "gridcolor": "white",
           "linecolor": "white",
           "ticks": "",
           "title": {
            "standoff": 15
           },
           "zerolinecolor": "white",
           "zerolinewidth": 2
          },
          "yaxis": {
           "automargin": true,
           "gridcolor": "white",
           "linecolor": "white",
           "ticks": "",
           "title": {
            "standoff": 15
           },
           "zerolinecolor": "white",
           "zerolinewidth": 2
          }
         }
        }
       }
      }
     },
     "metadata": {},
     "output_type": "display_data"
    }
   ],
   "source": [
    "rand_high = 5\n",
    "rand_low = -5\n",
    "n = 20\n",
    "\n",
    "# Create some random data\n",
    "x = np.random.uniform(rand_low, rand_high, n)\n",
    "y = np.random.uniform(rand_low, rand_high, n)\n",
    "z = np.random.uniform(rand_low, rand_high, n)\n",
    "color = np.random.uniform(0, 255, n)\n",
    "color = color.astype(int)\n",
    "\n",
    "# Format the data\n",
    "data = {\n",
    "    'x': x,\n",
    "    'y': y,\n",
    "    'z': z,\n",
    "    'color': color\n",
    "}\n",
    "\n",
    "# Create the padas dataframe\n",
    "dataframe = pd.DataFrame(data)\n",
    "# display(dataframe)\n",
    "\n",
    "\n",
    "# Create and show the plot\n",
    "fig = px.scatter_3d(dataframe, x='x', y='y', z='z', color='color')\n",
    "# Change the margin layout\n",
    "fig.update_layout(margin=dict(l=0, r=0, b=0, t=0))\n",
    "fig.show()"
   ]
  },
  {
   "cell_type": "markdown",
   "metadata": {},
   "source": [
    "## Dynamic 3d plot"
   ]
  },
  {
   "cell_type": "code",
   "execution_count": 127,
   "metadata": {},
   "outputs": [
    {
     "name": "stdout",
     "output_type": "stream",
     "text": [
      "( 50 , 200 )\n"
     ]
    },
    {
     "data": {
      "application/vnd.jupyter.widget-view+json": {
       "model_id": "2283f923dadc46d5a38ecde5ba1d3cf5",
       "version_major": 2,
       "version_minor": 0
      },
      "text/plain": [
       "VBox(children=(VBox(children=(FloatSlider(value=50.0, description='mu', max=200.0, min=-50.0), FloatSlider(val…"
      ]
     },
     "metadata": {},
     "output_type": "display_data"
    },
    {
     "name": "stdout",
     "output_type": "stream",
     "text": [
      "m_mu, m_sigma=( 50 , 198.3 )\n",
      "( 50 , 198.3 )\n",
      "m_mu, m_sigma=( 50 , 258.8 )\n",
      "( 50 , 258.8 )\n",
      "m_mu, m_sigma=( 50 , 278.9 )\n",
      "( 50 , 278.9 )\n",
      "m_mu, m_sigma=( 50 , 295.1 )\n",
      "( 50 , 295.1 )\n",
      "m_mu, m_sigma=( 50 , 303.1 )\n",
      "( 50 , 303.1 )\n",
      "m_mu, m_sigma=( 101.2 , 303.1 )\n",
      "( 101.2 , 303.1 )\n",
      "m_mu, m_sigma=( 101.2 , 291.7 )\n",
      "( 101.2 , 291.7 )\n",
      "m_mu, m_sigma=( 101.2 , 235.3 )\n",
      "( 101.2 , 235.3 )\n",
      "m_mu, m_sigma=( 101.2 , 203.1 )\n",
      "( 101.2 , 203.1 )\n",
      "m_mu, m_sigma=( 101.2 , 191.0 )\n",
      "( 101.2 , 191.0 )\n",
      "m_mu, m_sigma=( 101.2 , 174.8 )\n",
      "( 101.2 , 174.8 )\n",
      "m_mu, m_sigma=( 101.2 , 166.8 )\n",
      "( 101.2 , 166.8 )\n",
      "m_mu, m_sigma=( 101.2 , 170.8 )\n",
      "( 101.2 , 170.8 )\n",
      "m_mu, m_sigma=( 101.2 , 231.3 )\n",
      "( 101.2 , 231.3 )\n",
      "m_mu, m_sigma=( 101.2 , 287.7 )\n",
      "( 101.2 , 287.7 )\n",
      "m_mu, m_sigma=( 101.2 , 340.1 )\n",
      "( 101.2 , 340.1 )\n",
      "m_mu, m_sigma=( 101.2 , 372.3 )\n",
      "( 101.2 , 372.3 )\n",
      "m_mu, m_sigma=( 101.2 , 380.4 )\n",
      "( 101.2 , 380.4 )\n",
      "m_mu, m_sigma=( 101.2 , 392.5 )\n",
      "( 101.2 , 392.5 )\n",
      "m_mu, m_sigma=( 101.2 , 396.5 )\n",
      "( 101.2 , 396.5 )\n",
      "m_mu, m_sigma=( 95.5 , 396.5 )\n",
      "( 95.5 , 396.5 )\n",
      "m_mu, m_sigma=( 83.4 , 396.5 )\n",
      "( 83.4 , 396.5 )\n",
      "m_mu, m_sigma=( 59.2 , 396.5 )\n",
      "( 59.2 , 396.5 )\n",
      "m_mu, m_sigma=( 45.1 , 396.5 )\n",
      "( 45.1 , 396.5 )\n",
      "m_mu, m_sigma=( 37.1 , 396.5 )\n",
      "( 37.1 , 396.5 )\n",
      "m_mu, m_sigma=( 31.0 , 396.5 )\n",
      "( 31.0 , 396.5 )\n",
      "m_mu, m_sigma=( 29.0 , 396.5 )\n",
      "( 29.0 , 396.5 )\n",
      "m_mu, m_sigma=( 31.0 , 396.5 )\n",
      "( 31.0 , 396.5 )\n",
      "m_mu, m_sigma=( 37.1 , 396.5 )\n",
      "( 37.1 , 396.5 )\n",
      "m_mu, m_sigma=( 41.1 , 396.5 )\n",
      "( 41.1 , 396.5 )\n",
      "m_mu, m_sigma=( 45.1 , 396.5 )\n",
      "( 45.1 , 396.5 )\n",
      "m_mu, m_sigma=( 49.2 , 396.5 )\n",
      "( 49.2 , 396.5 )\n",
      "m_mu, m_sigma=( 53.2 , 396.5 )\n",
      "( 53.2 , 396.5 )\n",
      "m_mu, m_sigma=( 57.2 , 396.5 )\n",
      "( 57.2 , 396.5 )\n",
      "m_mu, m_sigma=( 65.3 , 396.5 )\n",
      "( 65.3 , 396.5 )\n",
      "m_mu, m_sigma=( 63.3 , 396.5 )\n",
      "( 63.3 , 396.5 )\n",
      "m_mu, m_sigma=( 55.2 , 396.5 )\n",
      "( 55.2 , 396.5 )\n",
      "m_mu, m_sigma=( 51.2 , 396.5 )\n",
      "( 51.2 , 396.5 )\n",
      "m_mu, m_sigma=( 51.2 , 383.6 )\n",
      "( 51.2 , 383.6 )\n",
      "m_mu, m_sigma=( 51.2 , 355.4 )\n",
      "( 51.2 , 355.4 )\n",
      "m_mu, m_sigma=( 51.2 , 323.2 )\n",
      "( 51.2 , 323.2 )\n",
      "m_mu, m_sigma=( 51.2 , 290.9 )\n",
      "( 51.2 , 290.9 )\n",
      "m_mu, m_sigma=( 51.2 , 266.7 )\n",
      "( 51.2 , 266.7 )\n",
      "m_mu, m_sigma=( 51.2 , 246.6 )\n",
      "( 51.2 , 246.6 )\n",
      "m_mu, m_sigma=( 51.2 , 226.4 )\n",
      "( 51.2 , 226.4 )\n",
      "m_mu, m_sigma=( 51.2 , 206.3 )\n",
      "( 51.2 , 206.3 )\n",
      "m_mu, m_sigma=( 51.2 , 182.1 )\n",
      "( 51.2 , 182.1 )\n",
      "m_mu, m_sigma=( 51.2 , 149.8 )\n",
      "( 51.2 , 149.8 )\n",
      "m_mu, m_sigma=( 51.2 , 129.7 )\n",
      "( 51.2 , 129.7 )\n",
      "m_mu, m_sigma=( 51.2 , 117.6 )\n",
      "( 51.2 , 117.6 )\n",
      "m_mu, m_sigma=( 51.2 , 113.6 )\n",
      "( 51.2 , 113.6 )\n",
      "m_mu, m_sigma=( 50.4 , 113.6 )\n",
      "( 50.4 , 113.6 )\n",
      "m_mu, m_sigma=( 54.4 , 113.6 )\n",
      "( 54.4 , 113.6 )\n",
      "m_mu, m_sigma=( 56.4 , 113.6 )\n",
      "( 56.4 , 113.6 )\n",
      "m_mu, m_sigma=( 54.4 , 113.6 )\n",
      "( 54.4 , 113.6 )\n",
      "m_mu, m_sigma=( 48.3 , 113.6 )\n",
      "( 48.3 , 113.6 )\n",
      "m_mu, m_sigma=( 44.3 , 113.6 )\n",
      "( 44.3 , 113.6 )\n",
      "m_mu, m_sigma=( 42.3 , 113.6 )\n",
      "( 42.3 , 113.6 )\n",
      "m_mu, m_sigma=( 42.3 , 113.4 )\n",
      "( 42.3 , 113.4 )\n",
      "m_mu, m_sigma=( 42.3 , 149.6 )\n",
      "( 42.3 , 149.6 )\n",
      "m_mu, m_sigma=( 42.3 , 169.8 )\n",
      "( 42.3 , 169.8 )\n",
      "m_mu, m_sigma=( 42.3 , 198.0 )\n",
      "( 42.3 , 198.0 )\n",
      "m_mu, m_sigma=( 42.3 , 206.1 )\n",
      "( 42.3 , 206.1 )\n",
      "m_mu, m_sigma=( 42.3 , 218.2 )\n",
      "( 42.3 , 218.2 )\n",
      "m_mu, m_sigma=( 42.3 , 242.4 )\n",
      "( 42.3 , 242.4 )\n",
      "m_mu, m_sigma=( 42.3 , 282.7 )\n",
      "( 42.3 , 282.7 )\n",
      "m_mu, m_sigma=( 42.3 , 335.1 )\n",
      "( 42.3 , 335.1 )\n",
      "m_mu, m_sigma=( 42.3 , 395.5 )\n",
      "( 42.3 , 395.5 )\n",
      "m_mu, m_sigma=( 42.3 , 411.6 )\n",
      "( 42.3 , 411.6 )\n",
      "m_mu, m_sigma=( 42.3 , 383.4 )\n",
      "( 42.3 , 383.4 )\n",
      "m_mu, m_sigma=( 42.3 , 335.1 )\n",
      "( 42.3 , 335.1 )\n",
      "m_mu, m_sigma=( 42.3 , 270.6 )\n",
      "( 42.3 , 270.6 )\n",
      "m_mu, m_sigma=( 43.6 , 270.6 )\n",
      "( 43.6 , 270.6 )\n",
      "m_mu, m_sigma=( 86.0 , 270.6 )\n",
      "( 86.0 , 270.6 )\n",
      "m_mu, m_sigma=( 96.0 , 270.6 )\n",
      "( 96.0 , 270.6 )\n",
      "m_mu, m_sigma=( 98.0 , 270.6 )\n",
      "( 98.0 , 270.6 )\n",
      "m_mu, m_sigma=( 88.0 , 270.6 )\n",
      "( 88.0 , 270.6 )\n",
      "m_mu, m_sigma=( 57.7 , 270.6 )\n",
      "( 57.7 , 270.6 )\n",
      "m_mu, m_sigma=( 47.6 , 270.6 )\n",
      "( 47.6 , 270.6 )\n",
      "m_mu, m_sigma=( 49.7 , 270.6 )\n",
      "( 49.7 , 270.6 )\n",
      "m_mu, m_sigma=( 61.8 , 270.6 )\n",
      "( 61.8 , 270.6 )\n",
      "m_mu, m_sigma=( 59.7 , 270.6 )\n",
      "( 59.7 , 270.6 )\n",
      "m_mu, m_sigma=( 49.7 , 270.6 )\n",
      "( 49.7 , 270.6 )\n",
      "m_mu, m_sigma=( 43.6 , 270.6 )\n",
      "( 43.6 , 270.6 )\n",
      "m_mu, m_sigma=( 41.6 , 270.6 )\n",
      "( 41.6 , 270.6 )\n",
      "m_mu, m_sigma=( 41.6 , 259.7 )\n",
      "( 41.6 , 259.7 )\n",
      "m_mu, m_sigma=( 41.6 , 179.1 )\n",
      "( 41.6 , 179.1 )\n",
      "m_mu, m_sigma=( 41.6 , 106.6 )\n",
      "( 41.6 , 106.6 )\n",
      "m_mu, m_sigma=( 41.6 , 74.3 )\n",
      "( 41.6 , 74.3 )\n",
      "m_mu, m_sigma=( 41.6 , 78.4 )\n",
      "( 41.6 , 78.4 )\n",
      "m_mu, m_sigma=( 41.6 , 292.0 )\n",
      "( 41.6 , 292.0 )\n",
      "m_mu, m_sigma=( 41.6 , 465.3 )\n",
      "( 41.6 , 465.3 )\n",
      "m_mu, m_sigma=( 41.6 , 499.9 )\n",
      "( 41.6 , 499.9 )\n",
      "m_mu, m_sigma=( 40.9 , 499.9 )\n",
      "( 40.9 , 499.9 )\n",
      "m_mu, m_sigma=( 65.1 , 499.9 )\n",
      "( 65.1 , 499.9 )\n",
      "m_mu, m_sigma=( 85.3 , 499.9 )\n",
      "( 85.3 , 499.9 )\n",
      "m_mu, m_sigma=( 95.3 , 499.9 )\n",
      "( 95.3 , 499.9 )\n",
      "m_mu, m_sigma=( 111.5 , 499.9 )\n",
      "( 111.5 , 499.9 )\n",
      "m_mu, m_sigma=( 115.5 , 499.9 )\n",
      "( 115.5 , 499.9 )\n",
      "m_mu, m_sigma=( 113.5 , 499.9 )\n",
      "( 113.5 , 499.9 )\n",
      "m_mu, m_sigma=( 87.3 , 499.9 )\n",
      "( 87.3 , 499.9 )\n",
      "m_mu, m_sigma=( 75.2 , 499.9 )\n",
      "( 75.2 , 499.9 )\n",
      "m_mu, m_sigma=( 71.1 , 499.9 )\n",
      "( 71.1 , 499.9 )\n",
      "m_mu, m_sigma=( 67.1 , 499.9 )\n",
      "( 67.1 , 499.9 )\n",
      "m_mu, m_sigma=( 63.1 , 499.9 )\n",
      "( 63.1 , 499.9 )\n",
      "m_mu, m_sigma=( 61.1 , 499.9 )\n",
      "( 61.1 , 499.9 )\n",
      "m_mu, m_sigma=( 57.0 , 499.9 )\n",
      "( 57.0 , 499.9 )\n",
      "m_mu, m_sigma=( 53.0 , 499.9 )\n",
      "( 53.0 , 499.9 )\n",
      "m_mu, m_sigma=( 49.0 , 499.9 )\n",
      "( 49.0 , 499.9 )\n"
     ]
    }
   ],
   "source": [
    "from pydoc import describe\n",
    "from scipy.stats import multivariate_normal\n",
    "import ipywidgets as widgets\n",
    "\n",
    "\n",
    "\n",
    "\n",
    "def f_multivariate_normal(x, y, mu, sigma):\n",
    "    X, Y = np.meshgrid(x, y)\n",
    "    return X, Y, multivariate_normal([mu, mu], [[sigma, 0], [0, sigma]]).pdf(np.dstack((X, Y)))\n",
    "\n",
    "\n",
    "\n",
    "x = np.linspace(0, 100)\n",
    "y = np.linspace(0, 100)\n",
    "mu = 50\n",
    "sigma = 200\n",
    "\n",
    "X, Y, Z = f_multivariate_normal(x, y, mu, sigma)\n",
    "\n",
    "trace_surface = go.Surface(x=X, y=Y, z=Z)\n",
    "\n",
    "fig = go.FigureWidget(\n",
    "    data=[trace_surface],\n",
    "    layout=go.Layout(\n",
    "        title=dict(\n",
    "            text='Multivariate Normal'\n",
    "        ),\n",
    "        barmode='overlay'\n",
    "    )\n",
    ")\n",
    "fig.update_layout(margin=dict(l=0, r=0, b=0, t=0))\n",
    "\n",
    "\n",
    "\n",
    "def update_function():\n",
    "    X, Y, Z = f_multivariate_normal(x, y, mu, sigma)\n",
    "    fig.data[0].z = Z\n",
    "\n",
    "def update_sigma(value):\n",
    "    global sigma\n",
    "    sigma = value.new\n",
    "    update_function()\n",
    "\n",
    "def update_mu(value):\n",
    "    global mu\n",
    "    mu = value.new\n",
    "    update_function()\n",
    "\n",
    "\n",
    "\n",
    "slider_mu = widgets.FloatSlider(value=mu, min=-50, max=200, step=0.1, description=\"mu\")\n",
    "slider_sigma = widgets.FloatSlider(value=sigma, min=0.1, max=500, step=0.1, description=\"sigma\")\n",
    "\n",
    "slider_mu.observe(update_mu, names=\"value\")\n",
    "slider_sigma.observe(update_sigma, names=\"value\")\n",
    "\n",
    "slider_container = widgets.VBox(children=[slider_mu, slider_sigma])\n",
    "main_container = widgets.VBox(children=[slider_container, fig])\n",
    "\n",
    "display(main_container)\n"
   ]
  }
 ],
 "metadata": {
  "kernelspec": {
   "display_name": "Python 3.10.2 64-bit",
   "language": "python",
   "name": "python3"
  },
  "language_info": {
   "codemirror_mode": {
    "name": "ipython",
    "version": 3
   },
   "file_extension": ".py",
   "mimetype": "text/x-python",
   "name": "python",
   "nbconvert_exporter": "python",
   "pygments_lexer": "ipython3",
   "version": "3.10.2"
  },
  "orig_nbformat": 4,
  "vscode": {
   "interpreter": {
    "hash": "959e57dc0a37e639553a4bdb350896ed4d4f15ec6ead1eb0fd82df70d0f6f87c"
   }
  }
 },
 "nbformat": 4,
 "nbformat_minor": 2
}
